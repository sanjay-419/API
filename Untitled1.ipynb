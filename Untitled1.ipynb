{
 "cells": [
  {
   "cell_type": "code",
   "execution_count": 2,
   "id": "7135041c",
   "metadata": {},
   "outputs": [
    {
     "name": "stdout",
     "output_type": "stream",
     "text": [
      "Requirement already satisfied: flask-cors in c:\\users\\kanimozhi n\\anaconda3\\lib\\site-packages (5.0.1)\n",
      "Requirement already satisfied: flask>=0.9 in c:\\users\\kanimozhi n\\anaconda3\\lib\\site-packages (from flask-cors) (3.0.3)\n",
      "Requirement already satisfied: Werkzeug>=0.7 in c:\\users\\kanimozhi n\\anaconda3\\lib\\site-packages (from flask-cors) (3.0.3)\n",
      "Requirement already satisfied: Jinja2>=3.1.2 in c:\\users\\kanimozhi n\\anaconda3\\lib\\site-packages (from flask>=0.9->flask-cors) (3.1.4)\n",
      "Requirement already satisfied: itsdangerous>=2.1.2 in c:\\users\\kanimozhi n\\anaconda3\\lib\\site-packages (from flask>=0.9->flask-cors) (2.2.0)\n",
      "Requirement already satisfied: click>=8.1.3 in c:\\users\\kanimozhi n\\anaconda3\\lib\\site-packages (from flask>=0.9->flask-cors) (8.1.7)\n",
      "Requirement already satisfied: blinker>=1.6.2 in c:\\users\\kanimozhi n\\anaconda3\\lib\\site-packages (from flask>=0.9->flask-cors) (1.6.2)\n",
      "Requirement already satisfied: MarkupSafe>=2.1.1 in c:\\users\\kanimozhi n\\anaconda3\\lib\\site-packages (from Werkzeug>=0.7->flask-cors) (2.1.3)\n",
      "Requirement already satisfied: colorama in c:\\users\\kanimozhi n\\anaconda3\\lib\\site-packages (from click>=8.1.3->flask>=0.9->flask-cors) (0.4.6)\n",
      "Note: you may need to restart the kernel to use updated packages.\n"
     ]
    }
   ],
   "source": [
    "pip install flask-cors\n"
   ]
  },
  {
   "cell_type": "code",
   "execution_count": null,
   "id": "187592a2-a95c-4d12-a96e-a06da55978d5",
   "metadata": {},
   "outputs": [
    {
     "name": "stdout",
     "output_type": "stream",
     "text": [
      "🌍 Public API URL: https://cfb8-49-207-184-78.ngrok-free.app\n"
     ]
    },
    {
     "name": "stderr",
     "output_type": "stream",
     "text": [
      "INFO:     Started server process [7500]\n",
      "INFO:     Waiting for application startup.\n",
      "INFO:     Application startup complete.\n",
      "INFO:     Uvicorn running on http://localhost:5500 (Press CTRL+C to quit)\n"
     ]
    },
    {
     "name": "stdout",
     "output_type": "stream",
     "text": [
      "INFO:     ::1:58623 - \"OPTIONS /predict HTTP/1.1\" 200 OK\n"
     ]
    },
    {
     "name": "stderr",
     "output_type": "stream",
     "text": [
      "Task exception was never retrieved\n",
      "future: <Task finished name='Task-1' coro=<Server.serve() done, defined at c:\\Users\\Kanimozhi N\\anaconda3\\Lib\\site-packages\\uvicorn\\server.py:68> exception=KeyboardInterrupt()>\n",
      "Traceback (most recent call last):\n",
      "  File \"c:\\Users\\Kanimozhi N\\anaconda3\\Lib\\site-packages\\uvicorn\\main.py\", line 579, in run\n",
      "    server.run()\n",
      "  File \"c:\\Users\\Kanimozhi N\\anaconda3\\Lib\\site-packages\\uvicorn\\server.py\", line 66, in run\n",
      "    return asyncio.run(self.serve(sockets=sockets))\n",
      "           ^^^^^^^^^^^^^^^^^^^^^^^^^^^^^^^^^^^^^^^^\n",
      "  File \"c:\\Users\\Kanimozhi N\\anaconda3\\Lib\\site-packages\\nest_asyncio.py\", line 30, in run\n",
      "    return loop.run_until_complete(task)\n",
      "           ^^^^^^^^^^^^^^^^^^^^^^^^^^^^^\n",
      "  File \"c:\\Users\\Kanimozhi N\\anaconda3\\Lib\\site-packages\\nest_asyncio.py\", line 92, in run_until_complete\n",
      "    self._run_once()\n",
      "  File \"c:\\Users\\Kanimozhi N\\anaconda3\\Lib\\site-packages\\nest_asyncio.py\", line 133, in _run_once\n",
      "    handle._run()\n",
      "  File \"c:\\Users\\Kanimozhi N\\anaconda3\\Lib\\asyncio\\events.py\", line 88, in _run\n",
      "    self._context.run(self._callback, *self._args)\n",
      "  File \"c:\\Users\\Kanimozhi N\\anaconda3\\Lib\\asyncio\\tasks.py\", line 396, in __wakeup\n",
      "    self.__step()\n",
      "  File \"c:\\Users\\Kanimozhi N\\anaconda3\\Lib\\asyncio\\tasks.py\", line 303, in __step\n",
      "    self.__step_run_and_handle_result(exc)\n",
      "  File \"c:\\Users\\Kanimozhi N\\anaconda3\\Lib\\asyncio\\tasks.py\", line 314, in __step_run_and_handle_result\n",
      "    result = coro.send(None)\n",
      "             ^^^^^^^^^^^^^^^\n",
      "  File \"c:\\Users\\Kanimozhi N\\anaconda3\\Lib\\site-packages\\uvicorn\\server.py\", line 69, in serve\n",
      "    with self.capture_signals():\n",
      "         ^^^^^^^^^^^^^^^^^^^^^^\n",
      "  File \"c:\\Users\\Kanimozhi N\\anaconda3\\Lib\\contextlib.py\", line 144, in __exit__\n",
      "    next(self.gen)\n",
      "  File \"c:\\Users\\Kanimozhi N\\anaconda3\\Lib\\site-packages\\uvicorn\\server.py\", line 330, in capture_signals\n",
      "    signal.raise_signal(captured_signal)\n",
      "KeyboardInterrupt\n"
     ]
    },
    {
     "name": "stdout",
     "output_type": "stream",
     "text": [
      "INFO:     ::1:58623 - \"POST /predict HTTP/1.1\" 200 OK\n"
     ]
    },
    {
     "name": "stderr",
     "output_type": "stream",
     "text": [
      "c:\\Users\\Kanimozhi N\\anaconda3\\Lib\\site-packages\\sklearn\\base.py:493: UserWarning: X does not have valid feature names, but RandomForestClassifier was fitted with feature names\n",
      "  warnings.warn(\n",
      "c:\\Users\\Kanimozhi N\\anaconda3\\Lib\\site-packages\\sklearn\\base.py:493: UserWarning: X does not have valid feature names, but RandomForestClassifier was fitted with feature names\n",
      "  warnings.warn(\n",
      "INFO:     Shutting down\n",
      "INFO:     Waiting for application shutdown.\n",
      "INFO:     Application shutdown complete.\n",
      "INFO:     Finished server process [7500]\n"
     ]
    },
    {
     "name": "stderr",
     "output_type": "stream",
     "text": [
      "t=2025-03-25T16:45:23+0530 lvl=warn msg=\"Stopping forwarder\" name=http-5500-24640baa-b570-4e00-b479-25b46e12de04 acceptErr=\"failed to accept connection: Listener closed\"\n",
      "t=2025-03-25T16:45:23+0530 lvl=warn msg=\"Stopping forwarder\" name=http-5500-c32ee03c-4b76-4845-b913-9ca731feb9af acceptErr=\"failed to accept connection: Listener closed\"\n",
      "t=2025-03-25T16:45:23+0530 lvl=warn msg=\"Error restarting forwarder\" name=http-5500-24640baa-b570-4e00-b479-25b46e12de04 err=\"failed to start tunnel: session closed\"\n",
      "t=2025-03-25T16:45:23+0530 lvl=warn msg=\"Error restarting forwarder\" name=http-5500-c32ee03c-4b76-4845-b913-9ca731feb9af err=\"failed to start tunnel: session closed\"\n"
     ]
    }
   ],
   "source": [
    "from fastapi import FastAPI\n",
    "import uvicorn\n",
    "import nest_asyncio\n",
    "import pickle\n",
    "import numpy as np\n",
    "from pydantic import BaseModel\n",
    "from fastapi.middleware.cors import CORSMiddleware\n",
    "from pyngrok import ngrok\n",
    "from flask_cors import CORS\n",
    "\n",
    "# Load the trained model\n",
    "model = pickle.load(open(\"HD.pkl\", \"rb\"))\n",
    "\n",
    "app = FastAPI()\n",
    "\n",
    "# Enable CORS\n",
    "app.add_middleware(\n",
    "    CORSMiddleware,\n",
    "    allow_origins=[\"*\"],  # Allow all origins\n",
    "    allow_credentials=True,\n",
    "    allow_methods=[\"*\"],  # Allow all methods\n",
    "    allow_headers=[\"*\"],  # Allow all headers\n",
    ")\n",
    "\n",
    "# Define input data model\n",
    "class PatientData(BaseModel):\n",
    "    age: float\n",
    "    sex: int\n",
    "    cp: int\n",
    "    trtbps: float\n",
    "    chol: float\n",
    "    fbs: int\n",
    "    rest_ecg: int\n",
    "    thalachh: float\n",
    "    exng: int\n",
    "    oldpeak: float\n",
    "    slope: int\n",
    "    ca: int\n",
    "    thall: int\n",
    "    hypertension: int\n",
    "    smoking_history: int\n",
    "    bmi: float\n",
    "    HbA1c_level: float\n",
    "    blood_glucose_level: float\n",
    "\n",
    "@app.get(\"/\")\n",
    "def home():\n",
    "    return {\"message\": \"Medical Disease Prediction API\"}\n",
    "\n",
    "@app.post(\"/predict\")\n",
    "def predict(data: PatientData):\n",
    "    # Convert input to numpy array\n",
    "    features = np.array([[data.age, data.sex, data.cp, data.trtbps, data.chol, \n",
    "                          data.fbs, data.rest_ecg, data.thalachh, data.exng, \n",
    "                          data.oldpeak, data.slope, data.ca, data.thall, \n",
    "                          data.hypertension, data.smoking_history, data.bmi, \n",
    "                          data.HbA1c_level, data.blood_glucose_level]])\n",
    "    \n",
    "    # Ensure model returns two predictions\n",
    "    predictions = model.predict(features)  # Expecting an array with two values\n",
    "\n",
    "    # Assuming the first value is for heart disease and the second for diabetes\n",
    "    return {\n",
    "        \"heart_disease_prediction\": int(predictions[0][0]),\n",
    "        \"diabetes_prediction\": int(predictions[0][1])\n",
    "    }\n",
    "\n",
    "# Run FastAPI server\n",
    "nest_asyncio.apply()\n",
    "public_url = ngrok.connect(5500).public_url\n",
    "print(f\"🌍 Public API URL: {public_url}\")\n",
    "\n",
    "uvicorn.run(app, host=\"localhost\", port=5500)\n"
   ]
  },
  {
   "cell_type": "markdown",
   "id": "8a1663a7",
   "metadata": {},
   "source": []
  },
  {
   "cell_type": "code",
   "execution_count": 17,
   "id": "18a0ecaa-d782-446c-9b7e-9b07fb5b7193",
   "metadata": {},
   "outputs": [
    {
     "name": "stdout",
     "output_type": "stream",
     "text": [
      "Requirement already satisfied: pyngrok in c:\\users\\kanimozhi n\\anaconda3\\lib\\site-packages (7.2.3)\n",
      "Requirement already satisfied: PyYAML>=5.1 in c:\\users\\kanimozhi n\\anaconda3\\lib\\site-packages (from pyngrok) (6.0.1)\n",
      "Note: you may need to restart the kernel to use updated packages.\n"
     ]
    }
   ],
   "source": [
    "pip install pyngrok\n"
   ]
  },
  {
   "cell_type": "code",
   "execution_count": 18,
   "id": "8a097759",
   "metadata": {},
   "outputs": [],
   "source": [
    "from pyngrok import ngrok\n",
    "a='2unsC5hRp8trcbowmJ0BN56iE0N_7MHm4FtpT2yBQmistuAvZ'\n",
    "ngrok.set_auth_token(a)"
   ]
  },
  {
   "cell_type": "code",
   "execution_count": 19,
   "id": "f0d6392e",
   "metadata": {},
   "outputs": [
    {
     "name": "stdout",
     "output_type": "stream",
     "text": [
      "Requirement already satisfied: flask in c:\\users\\kanimozhi n\\anaconda3\\lib\\site-packages (3.0.3)\n",
      "Requirement already satisfied: Werkzeug>=3.0.0 in c:\\users\\kanimozhi n\\anaconda3\\lib\\site-packages (from flask) (3.0.3)\n",
      "Requirement already satisfied: Jinja2>=3.1.2 in c:\\users\\kanimozhi n\\anaconda3\\lib\\site-packages (from flask) (3.1.4)\n",
      "Requirement already satisfied: itsdangerous>=2.1.2 in c:\\users\\kanimozhi n\\anaconda3\\lib\\site-packages (from flask) (2.2.0)\n",
      "Requirement already satisfied: click>=8.1.3 in c:\\users\\kanimozhi n\\anaconda3\\lib\\site-packages (from flask) (8.1.7)\n",
      "Requirement already satisfied: blinker>=1.6.2 in c:\\users\\kanimozhi n\\anaconda3\\lib\\site-packages (from flask) (1.6.2)\n",
      "Requirement already satisfied: colorama in c:\\users\\kanimozhi n\\anaconda3\\lib\\site-packages (from click>=8.1.3->flask) (0.4.6)\n",
      "Requirement already satisfied: MarkupSafe>=2.0 in c:\\users\\kanimozhi n\\anaconda3\\lib\\site-packages (from Jinja2>=3.1.2->flask) (2.1.3)\n",
      "Note: you may need to restart the kernel to use updated packages.\n"
     ]
    },
    {
     "name": "stderr",
     "output_type": "stream",
     "text": [
      "t=2025-03-25T15:39:09+0530 lvl=warn msg=\"failed to open private leg\" id=e1d1b6288b35 privaddr=localhost:5500 err=\"dial tcp [::1]:5500: connectex: No connection could be made because the target machine actively refused it.\"\n",
      "t=2025-03-25T15:39:10+0530 lvl=warn msg=\"failed to open private leg\" id=7df6c001b7dd privaddr=localhost:5500 err=\"dial tcp [::1]:5500: connectex: No connection could be made because the target machine actively refused it.\"\n",
      "t=2025-03-25T15:39:41+0530 lvl=warn msg=\"failed to open private leg\" id=2e58c9d9423b privaddr=localhost:5500 err=\"dial tcp [::1]:5500: connectex: No connection could be made because the target machine actively refused it.\"\n",
      "t=2025-03-25T15:39:43+0530 lvl=warn msg=\"failed to open private leg\" id=c856162967e0 privaddr=localhost:5500 err=\"dial tcp [::1]:5500: connectex: No connection could be made because the target machine actively refused it.\"\n",
      "t=2025-03-25T15:39:43+0530 lvl=warn msg=\"failed to open private leg\" id=5b098442c8b9 privaddr=localhost:5500 err=\"dial tcp [::1]:5500: connectex: No connection could be made because the target machine actively refused it.\"\n",
      "t=2025-03-25T15:39:46+0530 lvl=warn msg=\"failed to open private leg\" id=47c6e39d644e privaddr=localhost:5500 err=\"dial tcp [::1]:5500: connectex: No connection could be made because the target machine actively refused it.\"\n",
      "t=2025-03-25T15:39:46+0530 lvl=warn msg=\"failed to open private leg\" id=16cd789c5e92 privaddr=localhost:5500 err=\"dial tcp [::1]:5500: connectex: No connection could be made because the target machine actively refused it.\"\n",
      "t=2025-03-25T15:39:46+0530 lvl=warn msg=\"failed to open private leg\" id=22aa3501c499 privaddr=localhost:5500 err=\"dial tcp [::1]:5500: connectex: No connection could be made because the target machine actively refused it.\"\n",
      "t=2025-03-25T15:39:47+0530 lvl=warn msg=\"failed to open private leg\" id=e30c7429b05d privaddr=localhost:5500 err=\"dial tcp [::1]:5500: connectex: No connection could be made because the target machine actively refused it.\"\n",
      "t=2025-03-25T15:39:47+0530 lvl=warn msg=\"failed to open private leg\" id=3bd853ada02b privaddr=localhost:5500 err=\"dial tcp [::1]:5500: connectex: No connection could be made because the target machine actively refused it.\"\n",
      "t=2025-03-25T15:39:47+0530 lvl=warn msg=\"failed to open private leg\" id=c3e2d1eda22e privaddr=localhost:5500 err=\"dial tcp [::1]:5500: connectex: No connection could be made because the target machine actively refused it.\"\n",
      "t=2025-03-25T15:39:47+0530 lvl=warn msg=\"failed to open private leg\" id=c5e07694d827 privaddr=localhost:5500 err=\"dial tcp [::1]:5500: connectex: No connection could be made because the target machine actively refused it.\"\n",
      "t=2025-03-25T15:39:47+0530 lvl=warn msg=\"failed to open private leg\" id=b96adbbdff3d privaddr=localhost:5500 err=\"dial tcp [::1]:5500: connectex: No connection could be made because the target machine actively refused it.\"\n",
      "t=2025-03-25T15:39:47+0530 lvl=warn msg=\"failed to open private leg\" id=48ae06c93287 privaddr=localhost:5500 err=\"dial tcp [::1]:5500: connectex: No connection could be made because the target machine actively refused it.\"\n",
      "t=2025-03-25T15:39:47+0530 lvl=warn msg=\"failed to open private leg\" id=1e9f61a487e4 privaddr=localhost:5500 err=\"dial tcp [::1]:5500: connectex: No connection could be made because the target machine actively refused it.\"\n",
      "t=2025-03-25T15:39:48+0530 lvl=warn msg=\"failed to open private leg\" id=15ab4f6a7458 privaddr=localhost:5500 err=\"dial tcp [::1]:5500: connectex: No connection could be made because the target machine actively refused it.\"\n",
      "t=2025-03-25T15:39:48+0530 lvl=warn msg=\"failed to open private leg\" id=65cee8e9b921 privaddr=localhost:5500 err=\"dial tcp [::1]:5500: connectex: No connection could be made because the target machine actively refused it.\"\n",
      "t=2025-03-25T15:39:48+0530 lvl=warn msg=\"failed to open private leg\" id=88f0522c9483 privaddr=localhost:5500 err=\"dial tcp [::1]:5500: connectex: No connection could be made because the target machine actively refused it.\"\n",
      "t=2025-03-25T15:39:48+0530 lvl=warn msg=\"failed to open private leg\" id=ef80550ab707 privaddr=localhost:5500 err=\"dial tcp [::1]:5500: connectex: No connection could be made because the target machine actively refused it.\"\n",
      "t=2025-03-25T15:39:49+0530 lvl=warn msg=\"failed to open private leg\" id=b3778470eb97 privaddr=localhost:5500 err=\"dial tcp [::1]:5500: connectex: No connection could be made because the target machine actively refused it.\"\n",
      "t=2025-03-25T15:39:49+0530 lvl=warn msg=\"failed to open private leg\" id=79f3893ea4e2 privaddr=localhost:5500 err=\"dial tcp [::1]:5500: connectex: No connection could be made because the target machine actively refused it.\"\n",
      "t=2025-03-25T15:39:49+0530 lvl=warn msg=\"failed to open private leg\" id=064c5f86b469 privaddr=localhost:5500 err=\"dial tcp [::1]:5500: connectex: No connection could be made because the target machine actively refused it.\"\n",
      "t=2025-03-25T15:39:49+0530 lvl=warn msg=\"failed to open private leg\" id=20b222f0895b privaddr=localhost:5500 err=\"dial tcp [::1]:5500: connectex: No connection could be made because the target machine actively refused it.\"\n",
      "t=2025-03-25T15:39:49+0530 lvl=warn msg=\"failed to open private leg\" id=177415ada7ba privaddr=localhost:5500 err=\"dial tcp [::1]:5500: connectex: No connection could be made because the target machine actively refused it.\"\n",
      "t=2025-03-25T15:39:50+0530 lvl=warn msg=\"failed to open private leg\" id=efe86280a749 privaddr=localhost:5500 err=\"dial tcp [::1]:5500: connectex: No connection could be made because the target machine actively refused it.\"\n",
      "t=2025-03-25T15:42:08+0530 lvl=warn msg=\"failed to open private leg\" id=c02a25bf88db privaddr=localhost:5500 err=\"dial tcp [::1]:5500: connectex: No connection could be made because the target machine actively refused it.\"\n",
      "t=2025-03-25T15:46:27+0530 lvl=warn msg=\"failed to open private leg\" id=2145f170dcc8 privaddr=localhost:5500 err=\"dial tcp [::1]:5500: connectex: No connection could be made because the target machine actively refused it.\"\n"
     ]
    }
   ],
   "source": [
    "pip install flask"
   ]
  },
  {
   "cell_type": "code",
   "execution_count": null,
   "id": "a3781422",
   "metadata": {},
   "outputs": [],
   "source": []
  }
 ],
 "metadata": {
  "kernelspec": {
   "display_name": "base",
   "language": "python",
   "name": "python3"
  },
  "language_info": {
   "codemirror_mode": {
    "name": "ipython",
    "version": 3
   },
   "file_extension": ".py",
   "mimetype": "text/x-python",
   "name": "python",
   "nbconvert_exporter": "python",
   "pygments_lexer": "ipython3",
   "version": "3.12.7"
  }
 },
 "nbformat": 4,
 "nbformat_minor": 5
}
